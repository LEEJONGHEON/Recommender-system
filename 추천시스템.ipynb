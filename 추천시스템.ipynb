{
  "nbformat": 4,
  "nbformat_minor": 0,
  "metadata": {
    "colab": {
      "name": "추천시스템",
      "provenance": [],
      "collapsed_sections": []
    },
    "kernelspec": {
      "name": "python3",
      "display_name": "Python 3"
    },
    "language_info": {
      "name": "python"
    }
  },
  "cells": [
    {
      "cell_type": "code",
      "execution_count": 1,
      "metadata": {
        "colab": {
          "base_uri": "https://localhost:8080/"
        },
        "id": "yYwHVA7f2wix",
        "outputId": "36ddf938-4818-4a34-9562-4f03b29a8a9c"
      },
      "outputs": [
        {
          "output_type": "stream",
          "name": "stdout",
          "text": [
            "Mounted at /content/drive\n"
          ]
        }
      ],
      "source": [
        "from google.colab import drive\n",
        "drive.mount('/content/drive')"
      ]
    },
    {
      "cell_type": "markdown",
      "source": [
        "# 2장 데이터읽기"
      ],
      "metadata": {
        "id": "-_3zcPhz8CoA"
      }
    },
    {
      "cell_type": "code",
      "source": [
        "# 데이터 읽기\n",
        "# 사용자 데이터 u.user 파일을 DataFrame으로 읽기\n",
        "import os\n",
        "import pandas as pd\n",
        "base_src = '/content/drive/MyDrive/Colab Notebooks/인프런 강의/추천시스템/Python을 이용한 개인화 추천시스템'\n",
        "u_user_src = os.path.join(base_src,'u.user')\n",
        "u_cols = ['user_id','age','sex','occupation','zip_code']\n",
        "users = pd.read_csv(u_user_src,sep='|',names= u_cols, encoding='latin-1')\n",
        "users = users.set_index('user_id')\n",
        "users"
      ],
      "metadata": {
        "id": "PVqzE3mf5jvv"
      },
      "execution_count": null,
      "outputs": []
    },
    {
      "cell_type": "code",
      "source": [
        "u_item_src = os.path.join(base_src,'u.item')\n",
        "i_cols = ['movie_id','title','releasedate','video release date'\n",
        ",'IMDB URL','unknown','Action','Adventure','Animation'\n",
        ",'Children\\'s','Comedy','Crime','Documentary'\n",
        ",'Drama','Fantasy','Film\u0002Noir','Horror','Musical','Mystery','Romance'\n",
        ",'Sci-Fi','Thriller','War','Western']\n",
        "movies = pd.read_csv(u_item_src,sep='|',names= i_cols, encoding='latin-1')\n",
        "movies = movies.set_index('movie_id')\n",
        "movies"
      ],
      "metadata": {
        "id": "wvi_ZSOC6amp"
      },
      "execution_count": null,
      "outputs": []
    },
    {
      "cell_type": "code",
      "source": [
        "u_data_src = os.path.join(base_src,'u.data')\n",
        "r_cols = ['user_id','movie_id','rating','timestamp']\n",
        "ratings = pd.read_csv(u_data_src,sep='\\t',names= r_cols, encoding='latin-1')\n",
        "ratings = ratings.set_index('user_id')\n",
        "ratings"
      ],
      "metadata": {
        "colab": {
          "base_uri": "https://localhost:8080/",
          "height": 455
        },
        "id": "PvVo40Ae7PVi",
        "outputId": "6c096e8d-170d-4840-cec5-bf0f6dd0cb39"
      },
      "execution_count": 12,
      "outputs": [
        {
          "output_type": "execute_result",
          "data": {
            "text/plain": [
              "         movie_id  rating  timestamp\n",
              "user_id                             \n",
              "196           242       3  881250949\n",
              "186           302       3  891717742\n",
              "22            377       1  878887116\n",
              "244            51       2  880606923\n",
              "166           346       1  886397596\n",
              "...           ...     ...        ...\n",
              "880           476       3  880175444\n",
              "716           204       5  879795543\n",
              "276          1090       1  874795795\n",
              "13            225       2  882399156\n",
              "12            203       3  879959583\n",
              "\n",
              "[100000 rows x 3 columns]"
            ],
            "text/html": [
              "\n",
              "  <div id=\"df-f64c3de4-85fc-4509-b48e-038734f005f8\">\n",
              "    <div class=\"colab-df-container\">\n",
              "      <div>\n",
              "<style scoped>\n",
              "    .dataframe tbody tr th:only-of-type {\n",
              "        vertical-align: middle;\n",
              "    }\n",
              "\n",
              "    .dataframe tbody tr th {\n",
              "        vertical-align: top;\n",
              "    }\n",
              "\n",
              "    .dataframe thead th {\n",
              "        text-align: right;\n",
              "    }\n",
              "</style>\n",
              "<table border=\"1\" class=\"dataframe\">\n",
              "  <thead>\n",
              "    <tr style=\"text-align: right;\">\n",
              "      <th></th>\n",
              "      <th>movie_id</th>\n",
              "      <th>rating</th>\n",
              "      <th>timestamp</th>\n",
              "    </tr>\n",
              "    <tr>\n",
              "      <th>user_id</th>\n",
              "      <th></th>\n",
              "      <th></th>\n",
              "      <th></th>\n",
              "    </tr>\n",
              "  </thead>\n",
              "  <tbody>\n",
              "    <tr>\n",
              "      <th>196</th>\n",
              "      <td>242</td>\n",
              "      <td>3</td>\n",
              "      <td>881250949</td>\n",
              "    </tr>\n",
              "    <tr>\n",
              "      <th>186</th>\n",
              "      <td>302</td>\n",
              "      <td>3</td>\n",
              "      <td>891717742</td>\n",
              "    </tr>\n",
              "    <tr>\n",
              "      <th>22</th>\n",
              "      <td>377</td>\n",
              "      <td>1</td>\n",
              "      <td>878887116</td>\n",
              "    </tr>\n",
              "    <tr>\n",
              "      <th>244</th>\n",
              "      <td>51</td>\n",
              "      <td>2</td>\n",
              "      <td>880606923</td>\n",
              "    </tr>\n",
              "    <tr>\n",
              "      <th>166</th>\n",
              "      <td>346</td>\n",
              "      <td>1</td>\n",
              "      <td>886397596</td>\n",
              "    </tr>\n",
              "    <tr>\n",
              "      <th>...</th>\n",
              "      <td>...</td>\n",
              "      <td>...</td>\n",
              "      <td>...</td>\n",
              "    </tr>\n",
              "    <tr>\n",
              "      <th>880</th>\n",
              "      <td>476</td>\n",
              "      <td>3</td>\n",
              "      <td>880175444</td>\n",
              "    </tr>\n",
              "    <tr>\n",
              "      <th>716</th>\n",
              "      <td>204</td>\n",
              "      <td>5</td>\n",
              "      <td>879795543</td>\n",
              "    </tr>\n",
              "    <tr>\n",
              "      <th>276</th>\n",
              "      <td>1090</td>\n",
              "      <td>1</td>\n",
              "      <td>874795795</td>\n",
              "    </tr>\n",
              "    <tr>\n",
              "      <th>13</th>\n",
              "      <td>225</td>\n",
              "      <td>2</td>\n",
              "      <td>882399156</td>\n",
              "    </tr>\n",
              "    <tr>\n",
              "      <th>12</th>\n",
              "      <td>203</td>\n",
              "      <td>3</td>\n",
              "      <td>879959583</td>\n",
              "    </tr>\n",
              "  </tbody>\n",
              "</table>\n",
              "<p>100000 rows × 3 columns</p>\n",
              "</div>\n",
              "      <button class=\"colab-df-convert\" onclick=\"convertToInteractive('df-f64c3de4-85fc-4509-b48e-038734f005f8')\"\n",
              "              title=\"Convert this dataframe to an interactive table.\"\n",
              "              style=\"display:none;\">\n",
              "        \n",
              "  <svg xmlns=\"http://www.w3.org/2000/svg\" height=\"24px\"viewBox=\"0 0 24 24\"\n",
              "       width=\"24px\">\n",
              "    <path d=\"M0 0h24v24H0V0z\" fill=\"none\"/>\n",
              "    <path d=\"M18.56 5.44l.94 2.06.94-2.06 2.06-.94-2.06-.94-.94-2.06-.94 2.06-2.06.94zm-11 1L8.5 8.5l.94-2.06 2.06-.94-2.06-.94L8.5 2.5l-.94 2.06-2.06.94zm10 10l.94 2.06.94-2.06 2.06-.94-2.06-.94-.94-2.06-.94 2.06-2.06.94z\"/><path d=\"M17.41 7.96l-1.37-1.37c-.4-.4-.92-.59-1.43-.59-.52 0-1.04.2-1.43.59L10.3 9.45l-7.72 7.72c-.78.78-.78 2.05 0 2.83L4 21.41c.39.39.9.59 1.41.59.51 0 1.02-.2 1.41-.59l7.78-7.78 2.81-2.81c.8-.78.8-2.07 0-2.86zM5.41 20L4 18.59l7.72-7.72 1.47 1.35L5.41 20z\"/>\n",
              "  </svg>\n",
              "      </button>\n",
              "      \n",
              "  <style>\n",
              "    .colab-df-container {\n",
              "      display:flex;\n",
              "      flex-wrap:wrap;\n",
              "      gap: 12px;\n",
              "    }\n",
              "\n",
              "    .colab-df-convert {\n",
              "      background-color: #E8F0FE;\n",
              "      border: none;\n",
              "      border-radius: 50%;\n",
              "      cursor: pointer;\n",
              "      display: none;\n",
              "      fill: #1967D2;\n",
              "      height: 32px;\n",
              "      padding: 0 0 0 0;\n",
              "      width: 32px;\n",
              "    }\n",
              "\n",
              "    .colab-df-convert:hover {\n",
              "      background-color: #E2EBFA;\n",
              "      box-shadow: 0px 1px 2px rgba(60, 64, 67, 0.3), 0px 1px 3px 1px rgba(60, 64, 67, 0.15);\n",
              "      fill: #174EA6;\n",
              "    }\n",
              "\n",
              "    [theme=dark] .colab-df-convert {\n",
              "      background-color: #3B4455;\n",
              "      fill: #D2E3FC;\n",
              "    }\n",
              "\n",
              "    [theme=dark] .colab-df-convert:hover {\n",
              "      background-color: #434B5C;\n",
              "      box-shadow: 0px 1px 3px 1px rgba(0, 0, 0, 0.15);\n",
              "      filter: drop-shadow(0px 1px 2px rgba(0, 0, 0, 0.3));\n",
              "      fill: #FFFFFF;\n",
              "    }\n",
              "  </style>\n",
              "\n",
              "      <script>\n",
              "        const buttonEl =\n",
              "          document.querySelector('#df-f64c3de4-85fc-4509-b48e-038734f005f8 button.colab-df-convert');\n",
              "        buttonEl.style.display =\n",
              "          google.colab.kernel.accessAllowed ? 'block' : 'none';\n",
              "\n",
              "        async function convertToInteractive(key) {\n",
              "          const element = document.querySelector('#df-f64c3de4-85fc-4509-b48e-038734f005f8');\n",
              "          const dataTable =\n",
              "            await google.colab.kernel.invokeFunction('convertToInteractive',\n",
              "                                                     [key], {});\n",
              "          if (!dataTable) return;\n",
              "\n",
              "          const docLinkHtml = 'Like what you see? Visit the ' +\n",
              "            '<a target=\"_blank\" href=https://colab.research.google.com/notebooks/data_table.ipynb>data table notebook</a>'\n",
              "            + ' to learn more about interactive tables.';\n",
              "          element.innerHTML = '';\n",
              "          dataTable['output_type'] = 'display_data';\n",
              "          await google.colab.output.renderOutput(dataTable, element);\n",
              "          const docLink = document.createElement('div');\n",
              "          docLink.innerHTML = docLinkHtml;\n",
              "          element.appendChild(docLink);\n",
              "        }\n",
              "      </script>\n",
              "    </div>\n",
              "  </div>\n",
              "  "
            ]
          },
          "metadata": {},
          "execution_count": 12
        }
      ]
    },
    {
      "cell_type": "code",
      "source": [
        ""
      ],
      "metadata": {
        "id": "NlvSx66d7izZ"
      },
      "execution_count": null,
      "outputs": []
    },
    {
      "cell_type": "markdown",
      "source": [
        "# 2장 인기 제품 추천"
      ],
      "metadata": {
        "id": "mlO5rbyh8Gqu"
      }
    },
    {
      "cell_type": "code",
      "source": [
        "def recom_movie(n_items):\n",
        "  # groupby['movie_id'] : 영화 id 코드로 묶기\n",
        "  # 묶은뒤 rating 평균내기\n",
        "  movie_mean = ratings.groupby(['movie_id'])['rating'].mean()\n",
        "  # 평균된 영화평점기준으로 내림차순정렬 n개 뽑기\n",
        "  movie_sort = movie_mean.sort_values(ascending=False)[:n_items]\n",
        "\n",
        "  # movie_sort.index : n개 까지의 영화 index값만 가져오기\n",
        "\n",
        "\n",
        "  recom_movies = movies.loc[movie_sort.index]\n",
        "  recommendations = recom_movies['title']\n",
        "  return recommendations\n",
        "\n",
        "recom_movie(5)"
      ],
      "metadata": {
        "colab": {
          "base_uri": "https://localhost:8080/"
        },
        "id": "QK6LQroa8IZd",
        "outputId": "764473a4-1f44-45ab-89c1-9fc2b974461a"
      },
      "execution_count": 16,
      "outputs": [
        {
          "output_type": "execute_result",
          "data": {
            "text/plain": [
              "movie_id\n",
              "814                         Great Day in Harlem, A (1994)\n",
              "1599                        Someone Else's America (1995)\n",
              "1201           Marlene Dietrich: Shadow and Light (1996) \n",
              "1122                       They Made Me a Criminal (1939)\n",
              "1653    Entertaining Angels: The Dorothy Day Story (1996)\n",
              "Name: title, dtype: object"
            ]
          },
          "metadata": {},
          "execution_count": 16
        }
      ]
    },
    {
      "cell_type": "markdown",
      "source": [
        "# 2장 추천 시스템의 정확도 측정"
      ],
      "metadata": {
        "id": "Rcwkq1Ic9hLU"
      }
    },
    {
      "cell_type": "code",
      "source": [
        "import numpy as np\n",
        "\n",
        "def RMSE(y_true, y_pred):\n",
        "  return np.sqrt(np.mean((np.array(y_true)-np.array(y_pred))**2))\n",
        "\n",
        "# 정확도 계산\n",
        "rmse = []\n",
        "movie_mean = ratings.groupby(['movie_id'])['rating'].mean()\n",
        "\n",
        "for user in set(ratings.index):\n",
        "  y_true = ratings.loc[user]['rating']\n",
        "  # best-seller 방식으로\n",
        "  y_pred = movie_mean[ratings.loc[user]['movie_id']]\n",
        "  accuracy = RMSE(y_true,y_pred)\n",
        "  rmse.append(accuracy)\n",
        "\n",
        "print(np.mean(rmse))"
      ],
      "metadata": {
        "colab": {
          "base_uri": "https://localhost:8080/"
        },
        "id": "wv8n5EjP8uaN",
        "outputId": "158ef6a9-fdf7-4d50-c318-600b0f182269"
      },
      "execution_count": 54,
      "outputs": [
        {
          "output_type": "stream",
          "name": "stdout",
          "text": [
            "0.7989582428029239\n"
          ]
        }
      ]
    },
    {
      "cell_type": "markdown",
      "source": [
        "# 2-4 사용자 집단별 추천"
      ],
      "metadata": {
        "id": "yrqQg_BX-7t-"
      }
    },
    {
      "cell_type": "code",
      "source": [
        "# 데이터 읽기\n",
        "# 사용자 데이터 u.user 파일을 DataFrame으로 읽기\n",
        "import os\n",
        "import pandas as pd\n",
        "base_src = '/content/drive/MyDrive/Colab Notebooks/인프런 강의/추천시스템/Python을 이용한 개인화 추천시스템'\n",
        "u_user_src = os.path.join(base_src,'u.user')\n",
        "u_cols = ['user_id','age','sex','occupation','zip_code']\n",
        "users = pd.read_csv(u_user_src,sep='|',names= u_cols, encoding='latin-1')\n",
        "\n",
        "u_item_src = os.path.join(base_src,'u.item')\n",
        "i_cols = ['movie_id','title','releasedate','video release date'\n",
        ",'IMDB URL','unknown','Action','Adventure','Animation'\n",
        ",'Children\\'s','Comedy','Crime','Documentary'\n",
        ",'Drama','Fantasy','Film\u0002Noir','Horror','Musical','Mystery','Romance'\n",
        ",'Sci-Fi','Thriller','War','Western']\n",
        "movies = pd.read_csv(u_item_src,sep='|',names= i_cols, encoding='latin-1')\n",
        "\n",
        "u_data_src = os.path.join(base_src,'u.data')\n",
        "r_cols = ['user_id','movie_id','rating','timestamp']\n",
        "ratings = pd.read_csv(u_data_src,sep='\\t',names= r_cols, encoding='latin-1')\n",
        "\n",
        "# ratings DataFrame에서 timestamp 제거\n",
        "ratings = ratings.drop('timestamp',axis=1)\n",
        "movies = movies[['movie_id','title']]"
      ],
      "metadata": {
        "id": "YgksMTKn-edx"
      },
      "execution_count": 28,
      "outputs": []
    },
    {
      "cell_type": "code",
      "source": [
        "# 데이터 train, test set 분리\n",
        "from sklearn.model_selection import train_test_split\n",
        "x = ratings.copy()\n",
        "y = ratings['user_id']\n",
        "\n",
        "x_train,x_test,y_train,y_test = train_test_split(x,y,test_size=0.25, stratify=y)\n",
        "\n",
        "# 정확도 RMSE 계산\n",
        "def RMSE(y_true, y_pred):\n",
        "  return np.sqrt(np.mean((np.array(y_true)-np.array(y_pred))**2))\n",
        "\n",
        "# 모델별로 RMSE 계산\n",
        "def score(model):\n",
        "  id_pairs = zip(x_test['user_id'],x_test['movie_id'])\n",
        "  y_pred = np.array([model(user,movie) for (user,movie) in id_pairs])\n",
        "  y_true = np.array(x_test['rating'])\n",
        "  return RMSE(y_true,y_pred)\n",
        "\n",
        "# best_seller 함수를 이용한 정확도 계산\n",
        "train_mean = x_train.groupby(['movie_id'])['rating'].mean()\n",
        "\n",
        "def best_seller(user_id,movie_id):\n",
        "  try:\n",
        "    rating = train_mean[movie_id]\n",
        "\n",
        "  except:\n",
        "    rating = 3.0\n",
        "  return rating\n",
        "\n",
        "score(best_seller)"
      ],
      "metadata": {
        "colab": {
          "base_uri": "https://localhost:8080/"
        },
        "id": "v2EWGeQX_Zh3",
        "outputId": "11c16863-1958-4459-9bd2-dfc94e0455b1"
      },
      "execution_count": 53,
      "outputs": [
        {
          "output_type": "execute_result",
          "data": {
            "text/plain": [
              "1.022820298848175"
            ]
          },
          "metadata": {},
          "execution_count": 53
        }
      ]
    },
    {
      "cell_type": "code",
      "source": [
        "# 성별에 따른 예측값 계산\n",
        "merged_ratings = pd.merge(x_train,users)\n",
        "\n",
        "users = users.set_index('user_id')\n",
        "\n",
        "g_mean = merged_ratings[['movie_id','sex','rating']].groupby(['movie_id','sex'])['rating'].mean()\n",
        "g_mean\n",
        "\n",
        "rating_matrix = x_train.pivot(index='user_id',\n",
        "                              columns='movie_id',\n",
        "                              values='rating')"
      ],
      "metadata": {
        "id": "sXrT7zHxCPL_"
      },
      "execution_count": 58,
      "outputs": []
    },
    {
      "cell_type": "code",
      "source": [
        "# Gender 기준 추천\n",
        "def cf_gender(user_id, movie_id):\n",
        "  if movie_id in rating_matrix.columns:\n",
        "    gender = users.loc[user_id]['sex']\n",
        "    if gender in g_mean[movie_id].index:\n",
        "      gender_rating = g_mean[movie_id][gender]\n",
        "    else: # 없을경우\n",
        "      gender_rating = 3.0\n",
        "  else: # movie_id가없으면\n",
        "    gender_rating = 3.0\n",
        "  return gender_rating\n",
        "score(cf_gender)"
      ],
      "metadata": {
        "colab": {
          "base_uri": "https://localhost:8080/"
        },
        "id": "7ibxEQhlC7_K",
        "outputId": "3986c11d-5bc7-4980-d1a3-50f7d1f768a7"
      },
      "execution_count": 62,
      "outputs": [
        {
          "output_type": "execute_result",
          "data": {
            "text/plain": [
              "1.0308964836850518"
            ]
          },
          "metadata": {},
          "execution_count": 62
        }
      ]
    },
    {
      "cell_type": "code",
      "source": [
        ""
      ],
      "metadata": {
        "id": "lgzS96QuFYmI"
      },
      "execution_count": null,
      "outputs": []
    }
  ]
}